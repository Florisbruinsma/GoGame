{
  "nbformat": 4,
  "nbformat_minor": 0,
  "metadata": {
    "kernelspec": {
      "name": "python3",
      "display_name": "Python 3"
    },
    "language_info": {
      "codemirror_mode": {
        "name": "ipython",
        "version": 3
      },
      "file_extension": ".py",
      "mimetype": "text/x-python",
      "name": "python",
      "nbconvert_exporter": "python",
      "pygments_lexer": "ipython3",
      "version": "3.6.4"
    },
    "colab": {
      "name": "A2C GoGame",
      "provenance": [],
      "collapsed_sections": [],
      "machine_shape": "hm"
    },
    "accelerator": "GPU"
  },
  "cells": [
    {
      "cell_type": "code",
      "metadata": {
        "id": "N5leXNT75mD6",
        "colab_type": "code",
        "outputId": "eb8d68ba-b904-43b9-d9c1-7a15dd920750",
        "colab": {
          "base_uri": "https://localhost:8080/",
          "height": 34
        }
      },
      "source": [
        "from google.colab import drive\n",
        "drive.mount('/content/drive',force_remount=True)"
      ],
      "execution_count": 2,
      "outputs": [
        {
          "output_type": "stream",
          "text": [
            "Mounted at /content/drive\n"
          ],
          "name": "stdout"
        }
      ]
    },
    {
      "cell_type": "code",
      "metadata": {
        "id": "PksPbFhAx9hd",
        "colab_type": "code",
        "outputId": "53d151fb-8320-49b0-8dde-e4b405d6f5f9",
        "colab": {
          "base_uri": "https://localhost:8080/",
          "height": 136
        }
      },
      "source": [
        "!git clone https://github.com/Florisbruinsma/GoGame"
      ],
      "execution_count": 3,
      "outputs": [
        {
          "output_type": "stream",
          "text": [
            "Cloning into 'GoGame'...\n",
            "remote: Enumerating objects: 231, done.\u001b[K\n",
            "remote: Counting objects: 100% (231/231), done.\u001b[K\n",
            "remote: Compressing objects: 100% (211/211), done.\u001b[K\n",
            "remote: Total 231 (delta 126), reused 113 (delta 13), pack-reused 0\u001b[K\n",
            "Receiving objects: 100% (231/231), 4.04 MiB | 11.88 MiB/s, done.\n",
            "Resolving deltas: 100% (126/126), done.\n"
          ],
          "name": "stdout"
        }
      ]
    },
    {
      "cell_type": "code",
      "metadata": {
        "id": "ql0bSXl0po19",
        "colab_type": "code",
        "outputId": "7c1a9586-0b6b-428f-c0d1-ee6a6617b5a9",
        "colab": {
          "base_uri": "https://localhost:8080/",
          "height": 68
        }
      },
      "source": [
        "%tensorflow_version 2.x\n",
        "import tensorflow as tf\n",
        "print(tf.__version__)\n",
        "print(tf.test.is_gpu_available())\n",
        "\n",
        "from GoGame.GoGame import GoGame\n",
        "from GoGame.Model import Model\n",
        "from GoGame.Agent import A2CAgent\n",
        "\n",
        "# import gym\n",
        "%load_ext tensorboard\n",
        "from tensorflow.keras import backend\n",
        "from tensorflow.keras import callbacks\n",
        "import os\n",
        "import time\n",
        "import numpy as np\n",
        "# %tensorboard — logdir logs\n",
        "\n",
        "from tensorflow.python.client import device_lib"
      ],
      "execution_count": 4,
      "outputs": [
        {
          "output_type": "stream",
          "text": [
            "TensorFlow 2.x selected.\n",
            "2.0.0\n",
            "True\n"
          ],
          "name": "stdout"
        }
      ]
    },
    {
      "cell_type": "code",
      "metadata": {
        "id": "MQDBTrcbE5Mv",
        "colab_type": "code",
        "cellView": "code",
        "colab": {}
      },
      "source": [
        "BOARDSIZE = 9\n",
        "MAXTURNS = (BOARDSIZE*BOARDSIZE)-BOARDSIZE\n",
        "\n",
        "model_name = 'goGameV4Size'+str(BOARDSIZE)\n",
        "path = \"/content/drive/My Drive/colab/saved_model_data/\"\n",
        "save_path = path + \"{}.h5\".format(model_name)\n",
        "log_dir = path + \"/logs\"\n",
        "log_file = log_dir + '/{}_log.txt'.format(model_name)\n",
        "callbacks = None"
      ],
      "execution_count": 0,
      "outputs": []
    },
    {
      "cell_type": "code",
      "metadata": {
        "id": "9V7hAjIYgY4h",
        "colab_type": "code",
        "colab": {}
      },
      "source": [
        "# tensorboard_callback = callbacks.TensorBoard(log_dir, histogram_freq=1,write_images=True,write_grads=True,write_graph=True,update_freq='batch')\n",
        "# callbacks = [tensorboard_callback]"
      ],
      "execution_count": 0,
      "outputs": []
    },
    {
      "cell_type": "code",
      "metadata": {
        "id": "pCaru--MFoOM",
        "colab_type": "code",
        "colab": {}
      },
      "source": [
        "# %tensorboard --logdir \"/content/drive/My Drive/colab/saved_model_data/logs/train\""
      ],
      "execution_count": 0,
      "outputs": []
    },
    {
      "cell_type": "code",
      "metadata": {
        "id": "AT4z6IXSYO_d",
        "colab_type": "code",
        "colab": {
          "base_uri": "https://localhost:8080/",
          "height": 1000
        },
        "outputId": "482b5e60-8018-447a-a0ec-8ec2dcafacea"
      },
      "source": [
        "if(os.path.isfile(log_file)):\n",
        "    import matplotlib.pyplot as plt\n",
        "    import csv\n",
        "\n",
        "    epochs = []\n",
        "    won = []\n",
        "    lost = []\n",
        "    rewards = []\n",
        "    losses = []\n",
        "    time_val = []\n",
        "    larning_rate = []\n",
        "    with open(log_file, 'r') as csvFile:\n",
        "        reader = csv.reader(csvFile)\n",
        "        first_row = True\n",
        "        for row in reader:\n",
        "            if(not first_row):\n",
        "                epochs.append(      int(row[0]))\n",
        "                larning_rate.append(float(row[1]))\n",
        "                won.append(         int(row[2]))\n",
        "                lost.append(        int(row[3])-int(row[2]))\n",
        "                rewards.append(     float(row[4]))\n",
        "                losses.append(      float(row[5]))\n",
        "                time_val.append(    float(row[6]))\n",
        "            else:\n",
        "                first_row = False\n",
        "\n",
        "\n",
        "    plt.plot(epochs, won, label=\"Won\")\n",
        "    plt.plot(epochs, lost, label=\"Lost\")\n",
        "    plt.plot()\n",
        "\n",
        "    plt.xlabel(\"epochs\")\n",
        "    plt.ylabel(\"y axis\")\n",
        "    plt.legend()\n",
        "    plt.show()\n",
        "    #--------------------------------------------\n",
        "    plt.plot(epochs, rewards, label=\"rewards\")\n",
        "\n",
        "    plt.xlabel(\"epochs\")\n",
        "    plt.ylabel(\"rewards\")\n",
        "    plt.legend()\n",
        "    plt.show()\n",
        "    #--------------------------------------------\n",
        "    plt.plot(epochs, losses, label=\"losses\")\n",
        "\n",
        "    plt.xlabel(\"epochs\")\n",
        "    plt.ylabel(\"losses\")\n",
        "    plt.legend()\n",
        "    plt.show()\n",
        "    #--------------------------------------------\n",
        "    plt.plot(epochs, time_val, label=\"time\")\n",
        "\n",
        "    plt.xlabel(\"epochs\")\n",
        "    plt.ylabel(\"time (s)\")\n",
        "    plt.legend()\n",
        "    plt.show()\n",
        "    #--------------------------------------------\n",
        "    import seaborn as sns\n",
        "    sns.regplot(epochs, won, label=\"won\")\n",
        "    sns.regplot(epochs, lost, label=\"lost\")\n",
        "    plt.legend()\n",
        "    plt.show()"
      ],
      "execution_count": 8,
      "outputs": [
        {
          "output_type": "display_data",
          "data": {
            "image/png": "[encoded data removed]",
            "text/plain": [
              "<Figure size 432x288 with 1 Axes>"
            ]
          },
          "metadata": {
            "tags": []
          }
        },
        {
          "output_type": "display_data",
          "data": {
            "image/png": "[encoded data removed]",
            "text/plain": [
              "<Figure size 432x288 with 1 Axes>"
            ]
          },
          "metadata": {
            "tags": []
          }
        },
        {
          "output_type": "display_data",
          "data": {
            "image/png": "[encoded data removed]",
            "text/plain": [
              "<Figure size 432x288 with 1 Axes>"
            ]
          },
          "metadata": {
            "tags": []
          }
        },
        {
          "output_type": "display_data",
          "data": {
            "image/png": "[encoded data removed]",
            "text/plain": [
              "<Figure size 432x288 with 1 Axes>"
            ]
          },
          "metadata": {
            "tags": []
          }
        },
        {
          "output_type": "error",
          "ename": "ValueError",
          "evalue": "ignored",
          "traceback": [
            "\u001b[0;31m---------------------------------------------------------------------------\u001b[0m",
            "\u001b[0;31mValueError\u001b[0m                                Traceback (most recent call last)",
            "\u001b[0;32m<ipython-input-8-bbca6dce025d>\u001b[0m in \u001b[0;36m<module>\u001b[0;34m()\u001b[0m\n\u001b[1;32m     57\u001b[0m     \u001b[0;31m#--------------------------------------------\u001b[0m\u001b[0;34m\u001b[0m\u001b[0;34m\u001b[0m\u001b[0;34m\u001b[0m\u001b[0m\n\u001b[1;32m     58\u001b[0m     \u001b[0;32mimport\u001b[0m \u001b[0mseaborn\u001b[0m \u001b[0;32mas\u001b[0m \u001b[0msns\u001b[0m\u001b[0;34m\u001b[0m\u001b[0;34m\u001b[0m\u001b[0m\n\u001b[0;32m---> 59\u001b[0;31m     \u001b[0msns\u001b[0m\u001b[0;34m.\u001b[0m\u001b[0mregplot\u001b[0m\u001b[0;34m(\u001b[0m\u001b[0mepochs\u001b[0m\u001b[0;34m,\u001b[0m \u001b[0mwon\u001b[0m\u001b[0;34m,\u001b[0m \u001b[0mlabel\u001b[0m\u001b[0;34m=\u001b[0m\u001b[0;34m\"won\"\u001b[0m\u001b[0;34m)\u001b[0m\u001b[0;34m\u001b[0m\u001b[0;34m\u001b[0m\u001b[0m\n\u001b[0m\u001b[1;32m     60\u001b[0m     \u001b[0msns\u001b[0m\u001b[0;34m.\u001b[0m\u001b[0mregplot\u001b[0m\u001b[0;34m(\u001b[0m\u001b[0mepochs\u001b[0m\u001b[0;34m,\u001b[0m \u001b[0mlost\u001b[0m\u001b[0;34m,\u001b[0m \u001b[0mlabel\u001b[0m\u001b[0;34m=\u001b[0m\u001b[0;34m\"lost\"\u001b[0m\u001b[0;34m)\u001b[0m\u001b[0;34m\u001b[0m\u001b[0;34m\u001b[0m\u001b[0m\n\u001b[1;32m     61\u001b[0m     \u001b[0mplt\u001b[0m\u001b[0;34m.\u001b[0m\u001b[0mlegend\u001b[0m\u001b[0;34m(\u001b[0m\u001b[0;34m)\u001b[0m\u001b[0;34m\u001b[0m\u001b[0;34m\u001b[0m\u001b[0m\n",
            "\u001b[0;32m/usr/local/lib/python3.6/dist-packages/seaborn/regression.py\u001b[0m in \u001b[0;36mregplot\u001b[0;34m(x, y, data, x_estimator, x_bins, x_ci, scatter, fit_reg, ci, n_boot, units, order, logistic, lowess, robust, logx, x_partial, y_partial, truncate, dropna, x_jitter, y_jitter, label, color, marker, scatter_kws, line_kws, ax)\u001b[0m\n\u001b[1;32m    779\u001b[0m                                  \u001b[0morder\u001b[0m\u001b[0;34m,\u001b[0m \u001b[0mlogistic\u001b[0m\u001b[0;34m,\u001b[0m \u001b[0mlowess\u001b[0m\u001b[0;34m,\u001b[0m \u001b[0mrobust\u001b[0m\u001b[0;34m,\u001b[0m \u001b[0mlogx\u001b[0m\u001b[0;34m,\u001b[0m\u001b[0;34m\u001b[0m\u001b[0;34m\u001b[0m\u001b[0m\n\u001b[1;32m    780\u001b[0m                                  \u001b[0mx_partial\u001b[0m\u001b[0;34m,\u001b[0m \u001b[0my_partial\u001b[0m\u001b[0;34m,\u001b[0m \u001b[0mtruncate\u001b[0m\u001b[0;34m,\u001b[0m \u001b[0mdropna\u001b[0m\u001b[0;34m,\u001b[0m\u001b[0;34m\u001b[0m\u001b[0;34m\u001b[0m\u001b[0m\n\u001b[0;32m--> 781\u001b[0;31m                                  x_jitter, y_jitter, color, label)\n\u001b[0m\u001b[1;32m    782\u001b[0m \u001b[0;34m\u001b[0m\u001b[0m\n\u001b[1;32m    783\u001b[0m     \u001b[0;32mif\u001b[0m \u001b[0max\u001b[0m \u001b[0;32mis\u001b[0m \u001b[0;32mNone\u001b[0m\u001b[0;34m:\u001b[0m\u001b[0;34m\u001b[0m\u001b[0;34m\u001b[0m\u001b[0m\n",
            "\u001b[0;32m/usr/local/lib/python3.6/dist-packages/seaborn/regression.py\u001b[0m in \u001b[0;36m__init__\u001b[0;34m(self, x, y, data, x_estimator, x_bins, x_ci, scatter, fit_reg, ci, n_boot, units, order, logistic, lowess, robust, logx, x_partial, y_partial, truncate, dropna, x_jitter, y_jitter, color, label)\u001b[0m\n\u001b[1;32m    124\u001b[0m \u001b[0;34m\u001b[0m\u001b[0m\n\u001b[1;32m    125\u001b[0m         \u001b[0;31m# Save the range of the x variable for the grid later\u001b[0m\u001b[0;34m\u001b[0m\u001b[0;34m\u001b[0m\u001b[0;34m\u001b[0m\u001b[0m\n\u001b[0;32m--> 126\u001b[0;31m         \u001b[0mself\u001b[0m\u001b[0;34m.\u001b[0m\u001b[0mx_range\u001b[0m \u001b[0;34m=\u001b[0m \u001b[0mself\u001b[0m\u001b[0;34m.\u001b[0m\u001b[0mx\u001b[0m\u001b[0;34m.\u001b[0m\u001b[0mmin\u001b[0m\u001b[0;34m(\u001b[0m\u001b[0;34m)\u001b[0m\u001b[0;34m,\u001b[0m \u001b[0mself\u001b[0m\u001b[0;34m.\u001b[0m\u001b[0mx\u001b[0m\u001b[0;34m.\u001b[0m\u001b[0mmax\u001b[0m\u001b[0;34m(\u001b[0m\u001b[0;34m)\u001b[0m\u001b[0;34m\u001b[0m\u001b[0;34m\u001b[0m\u001b[0m\n\u001b[0m\u001b[1;32m    127\u001b[0m \u001b[0;34m\u001b[0m\u001b[0m\n\u001b[1;32m    128\u001b[0m     \u001b[0;34m@\u001b[0m\u001b[0mproperty\u001b[0m\u001b[0;34m\u001b[0m\u001b[0;34m\u001b[0m\u001b[0m\n",
            "\u001b[0;32m/usr/local/lib/python3.6/dist-packages/numpy/core/_methods.py\u001b[0m in \u001b[0;36m_amin\u001b[0;34m(a, axis, out, keepdims, initial)\u001b[0m\n\u001b[1;32m     30\u001b[0m def _amin(a, axis=None, out=None, keepdims=False,\n\u001b[1;32m     31\u001b[0m           initial=_NoValue):\n\u001b[0;32m---> 32\u001b[0;31m     \u001b[0;32mreturn\u001b[0m \u001b[0mumr_minimum\u001b[0m\u001b[0;34m(\u001b[0m\u001b[0ma\u001b[0m\u001b[0;34m,\u001b[0m \u001b[0maxis\u001b[0m\u001b[0;34m,\u001b[0m \u001b[0;32mNone\u001b[0m\u001b[0;34m,\u001b[0m \u001b[0mout\u001b[0m\u001b[0;34m,\u001b[0m \u001b[0mkeepdims\u001b[0m\u001b[0;34m,\u001b[0m \u001b[0minitial\u001b[0m\u001b[0;34m)\u001b[0m\u001b[0;34m\u001b[0m\u001b[0;34m\u001b[0m\u001b[0m\n\u001b[0m\u001b[1;32m     33\u001b[0m \u001b[0;34m\u001b[0m\u001b[0m\n\u001b[1;32m     34\u001b[0m def _sum(a, axis=None, dtype=None, out=None, keepdims=False,\n",
            "\u001b[0;31mValueError\u001b[0m: zero-size array to reduction operation minimum which has no identity"
          ]
        }
      ]
    },
    {
      "cell_type": "code",
      "metadata": {
        "id": "BnaYx2TM4Ta5",
        "colab_type": "code",
        "colab": {}
      },
      "source": [
        "try:\n",
        "    START_EPOCH = epochs[-1] +1\n",
        "except:\n",
        "    START_EPOCH = 0\n",
        "EPOCHS = 500\n",
        "EPISODES = 200\n",
        "LEARNINGRATE = 0.0005\n",
        "WINNING_FACTOR = 1\n",
        "LOSING_FACTOR = 1"
      ],
      "execution_count": 0,
      "outputs": []
    },
    {
      "cell_type": "code",
      "metadata": {
        "id": "3udRDUCYpo2K",
        "colab_type": "code",
        "outputId": "d915c190-225b-417e-e249-97393f6c930e",
        "colab": {
          "base_uri": "https://localhost:8080/",
          "height": 918
        }
      },
      "source": [
        "env = GoGame(BOARDSIZE, maxTurns=MAXTURNS)\n",
        "\n",
        "model = Model(num_actions=env.action_space.n, callbacks=callbacks)\n",
        "agent = A2CAgent(model,lr=LEARNINGRATE)\n",
        "agent.test(env,render=False)\n",
        "\n",
        "if(os.path.isfile(save_path)):\n",
        "    model.load_weights(save_path)\n",
        "    print(\"model loaded\")\n",
        "else:\n",
        "    print(\"new model\")\n",
        "\n",
        "if(not os.path.isfile(log_file)):\n",
        "    print(\"making new log file\")\n",
        "    with open(log_file, \"w\") as f:\n",
        "        f.write(\"Epochs,LearningRate,Won,Lost,Rewards,Losses,Time\\n\")\n",
        "# model.action_value(env.reset()[None, :])#build the model\n",
        "model.summary()\n",
        "\n",
        "for epoch in range(START_EPOCH,START_EPOCH + EPOCHS):\n",
        "    time_start = time.time()\n",
        "    backend.clear_session()\n",
        "    rewards_history, episode_wins, losses = agent.train(\n",
        "        env,\n",
        "        max_steps=MAXTURNS,\n",
        "        episodes=EPISODES, \n",
        "        info=False, \n",
        "        winning_factor = WINNING_FACTOR, \n",
        "        losing_factor = LOSING_FACTOR)\n",
        "    print(\"epoch = {:2} | lr = {:8.6f} | won {:3}/{:3} matches | mean rewards = {:7.2f} | mean losses = {:7.2f} | epoch time = {:6.2f} sec\".format(epoch, LEARNINGRATE, episode_wins.count(1), len(episode_wins), np.mean(rewards_history), np.mean(losses), (time.time()-time_start)))\n",
        "    model.save_weights(save_path)\n",
        "    print(\"model saved\")\n",
        "    with open(log_file, \"a\") as f:\n",
        "        f.write(\"{:2},{:8.6f},{:3},{:3},{:7.2f},{:7.2f},{:6.2f}\\n\".format(epoch, LEARNINGRATE, episode_wins.count(1), len(episode_wins), np.mean(rewards_history), np.mean(losses), (time.time()-time_start)))\n",
        "\n",
        "# print(\"Finished training, testing...\")\n",
        "# for _ in range(1):\n",
        "#     print(\"total score = %d \" % agent.test(env,render=True))"
      ],
      "execution_count": 0,
      "outputs": [
        {
          "output_type": "stream",
          "text": [
            "new model\n",
            "Model: \"model\"\n",
            "_________________________________________________________________\n",
            "Layer (type)                 Output Shape              Param #   \n",
            "=================================================================\n",
            "dense (Dense)                multiple                  83968     \n",
            "_________________________________________________________________\n",
            "dense_1 (Dense)              multiple                  41984     \n",
            "_________________________________________________________________\n",
            "value (Dense)                multiple                  513       \n",
            "_________________________________________________________________\n",
            "policy_logits (Dense)        multiple                  83025     \n",
            "_________________________________________________________________\n",
            "probability_distribution (Pr multiple                  0         \n",
            "=================================================================\n",
            "Total params: 209,490\n",
            "Trainable params: 209,490\n",
            "Non-trainable params: 0\n",
            "_________________________________________________________________\n",
            "epoch =  0 | lr = 0.000500 | won   1/200 matches | mean rewards = -2962.75 | mean losses = 993437.44 | epoch time = 430.54 sec\n",
            "model saved\n",
            "epoch =  1 | lr = 0.000500 | won   0/200 matches | mean rewards = -3064.53 | mean losses = 833325.62 | epoch time = 448.51 sec\n",
            "model saved\n",
            "epoch =  2 | lr = 0.000500 | won   0/200 matches | mean rewards = -3201.84 | mean losses = 731033.00 | epoch time = 445.88 sec\n",
            "model saved\n",
            "epoch =  3 | lr = 0.000500 | won   0/200 matches | mean rewards = -3595.27 | mean losses = 865231.06 | epoch time = 479.11 sec\n",
            "model saved\n",
            "epoch =  4 | lr = 0.000500 | won   0/200 matches | mean rewards = -3459.79 | mean losses = 803491.75 | epoch time = 486.72 sec\n",
            "model saved\n",
            "epoch =  5 | lr = 0.000500 | won   0/200 matches | mean rewards = -3267.26 | mean losses = 723390.50 | epoch time = 471.49 sec\n",
            "model saved\n",
            "epoch =  7 | lr = 0.000500 | won   0/200 matches | mean rewards = -3371.34 | mean losses = 759906.44 | epoch time = 465.64 sec\n",
            "model saved\n",
            "epoch =  8 | lr = 0.000500 | won   1/200 matches | mean rewards = -3469.88 | mean losses = 791043.94 | epoch time = 472.81 sec\n",
            "model saved\n",
            "epoch =  9 | lr = 0.000500 | won   0/200 matches | mean rewards = -3491.87 | mean losses = 795642.94 | epoch time = 488.25 sec\n",
            "model saved\n",
            "epoch = 10 | lr = 0.000500 | won   0/200 matches | mean rewards = -3426.17 | mean losses = 762094.00 | epoch time = 475.86 sec\n",
            "model saved\n",
            "epoch = 11 | lr = 0.000500 | won   0/200 matches | mean rewards = -3512.26 | mean losses = 794161.56 | epoch time = 481.62 sec\n",
            "model saved\n",
            "epoch = 12 | lr = 0.000500 | won   0/200 matches | mean rewards = -3814.60 | mean losses = 896410.88 | epoch time = 473.22 sec\n",
            "model saved\n",
            "epoch = 13 | lr = 0.000500 | won   0/200 matches | mean rewards = -3541.69 | mean losses = 768785.75 | epoch time = 486.82 sec\n",
            "model saved\n",
            "epoch = 14 | lr = 0.000500 | won   0/200 matches | mean rewards = -3598.20 | mean losses = 780417.56 | epoch time = 468.77 sec\n",
            "model saved\n",
            "epoch = 15 | lr = 0.000500 | won   0/200 matches | mean rewards = -3594.44 | mean losses = 764061.00 | epoch time = 488.92 sec\n",
            "model saved\n",
            "epoch = 16 | lr = 0.000500 | won   0/200 matches | mean rewards = -3111.25 | mean losses = 569118.25 | epoch time = 450.39 sec\n",
            "model saved\n",
            "epoch = 17 | lr = 0.000500 | won   0/200 matches | mean rewards = -3016.72 | mean losses = 518604.38 | epoch time = 453.47 sec\n",
            "model saved\n"
          ],
          "name": "stdout"
        }
      ]
    }
  ]
}